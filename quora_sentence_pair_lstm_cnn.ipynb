{
  "nbformat": 4,
  "nbformat_minor": 0,
  "metadata": {
    "colab": {
      "name": "quora_sentence_pair.ipynb",
      "provenance": [],
      "collapsed_sections": []
    },
    "kernelspec": {
      "name": "python3",
      "display_name": "Python 3"
    },
    "accelerator": "GPU"
  },
  "cells": [
    {
      "cell_type": "code",
      "metadata": {
        "id": "vNpCmHJDune8",
        "colab_type": "code",
        "colab": {}
      },
      "source": [
        "from torchtext import data\n",
        "import torchtext\n",
        "import spacy\n",
        "import torch.nn as nn\n",
        "import time\n",
        "import torch.nn.functional as F\n",
        "import sys\n",
        "\n",
        "\n",
        "path = '/content/drive/My Drive/'\n",
        "\n"
      ],
      "execution_count": null,
      "outputs": []
    },
    {
      "cell_type": "code",
      "metadata": {
        "id": "hAknfGLrwVRJ",
        "colab_type": "code",
        "colab": {}
      },
      "source": [
        "TEXT = data.Field(tokenize = 'spacy', lower = True)\n",
        "LABEL = data.LabelField()\n",
        "\n",
        "fields =[('question1',TEXT),('question2',TEXT),('is_duplicate',LABEL)]\n",
        "train_data,valid_data = data.TabularDataset.splits(\n",
        "        path=path, train='train_data_mod.csv', validation = 'validate_data_mod.csv',\n",
        "        format='csv',\n",
        "        skip_header = True,\n",
        "        fields=fields)"
      ],
      "execution_count": null,
      "outputs": []
    },
    {
      "cell_type": "code",
      "metadata": {
        "id": "kTTXZCA5z-Ir",
        "colab_type": "code",
        "colab": {
          "base_uri": "https://localhost:8080/",
          "height": 51
        },
        "outputId": "8617a791-c378-425f-f471-9d3aaa09788d"
      },
      "source": [
        "import torch\n",
        "\n",
        "MIN_FREQ = 2\n",
        "TEXT.build_vocab(train_data, \n",
        "                 min_freq = MIN_FREQ,\n",
        "                 vectors = \"glove.6B.300d\",\n",
        "                 unk_init = torch.Tensor.normal_)\n",
        "\n",
        "LABEL.build_vocab(train_data)"
      ],
      "execution_count": null,
      "outputs": [
        {
          "output_type": "stream",
          "text": [
            ".vector_cache/glove.6B.zip: 862MB [06:27, 2.23MB/s]                           \n",
            "100%|█████████▉| 399129/400000 [00:40<00:00, 10161.35it/s]"
          ],
          "name": "stderr"
        }
      ]
    },
    {
      "cell_type": "code",
      "metadata": {
        "id": "Z5lehs9N0bPw",
        "colab_type": "code",
        "colab": {
          "base_uri": "https://localhost:8080/",
          "height": 34
        },
        "outputId": "175532cb-8f4d-42a9-81cc-d32ce7eeef95"
      },
      "source": [
        "print(f\"Unique tokens in TEXT vocabulary: {len(TEXT.vocab)}\")"
      ],
      "execution_count": null,
      "outputs": [
        {
          "output_type": "stream",
          "text": [
            "Unique tokens in TEXT vocabulary: 54531\n"
          ],
          "name": "stdout"
        }
      ]
    },
    {
      "cell_type": "code",
      "metadata": {
        "id": "4ueKnEly3_Za",
        "colab_type": "code",
        "colab": {
          "base_uri": "https://localhost:8080/",
          "height": 54
        },
        "outputId": "77329cce-8798-4900-d503-6db8a98fa669"
      },
      "source": [
        "print(TEXT.vocab.freqs.most_common(20))"
      ],
      "execution_count": null,
      "outputs": [
        {
          "output_type": "stream",
          "text": [
            "[('?', 830871), ('the', 368146), ('what', 316488), ('is', 264383), ('i', 217268), ('how', 215290), ('a', 206069), ('to', 200540), ('in', 191971), ('do', 165563), ('of', 155911), ('are', 143078), ('and', 129948), ('can', 111803), ('for', 101851), (',', 95847), ('you', 90885), ('why', 82028), ('it', 69280), ('my', 69196)]\n"
          ],
          "name": "stdout"
        }
      ]
    },
    {
      "cell_type": "code",
      "metadata": {
        "id": "HJaqwfv54GTk",
        "colab_type": "code",
        "colab": {
          "base_uri": "https://localhost:8080/",
          "height": 34
        },
        "outputId": "9f686fbf-194b-441f-bbb9-828b6ed6a968"
      },
      "source": [
        "print(TEXT.vocab.itos[:10])"
      ],
      "execution_count": null,
      "outputs": [
        {
          "output_type": "stream",
          "text": [
            "['<unk>', '<pad>', '?', 'the', 'what', 'is', 'i', 'how', 'a', 'to']\n"
          ],
          "name": "stdout"
        }
      ]
    },
    {
      "cell_type": "code",
      "metadata": {
        "id": "Uo5RaHcz4M6l",
        "colab_type": "code",
        "colab": {
          "base_uri": "https://localhost:8080/",
          "height": 34
        },
        "outputId": "bc64aaf8-5d4c-414a-dd7a-fdce9579c2d5"
      },
      "source": [
        "print(LABEL.vocab.itos)"
      ],
      "execution_count": null,
      "outputs": [
        {
          "output_type": "stream",
          "text": [
            "['0', '1']\n"
          ],
          "name": "stdout"
        }
      ]
    },
    {
      "cell_type": "code",
      "metadata": {
        "id": "qX48PbiE4QiC",
        "colab_type": "code",
        "colab": {
          "base_uri": "https://localhost:8080/",
          "height": 34
        },
        "outputId": "ee46c4dd-f896-429f-ecd9-f0de1ee79462"
      },
      "source": [
        "print(LABEL.vocab.freqs.most_common())"
      ],
      "execution_count": null,
      "outputs": [
        {
          "output_type": "stream",
          "text": [
            "[('0', 248442), ('1', 145848)]\n"
          ],
          "name": "stdout"
        }
      ]
    },
    {
      "cell_type": "code",
      "metadata": {
        "id": "nOQilVTe4YD-",
        "colab_type": "code",
        "colab": {
          "base_uri": "https://localhost:8080/",
          "height": 34
        },
        "outputId": "39de94e9-23e2-46d1-d870-30491ac8ffd5"
      },
      "source": [
        "BATCH_SIZE = 512\n",
        "\n",
        "device = torch.device('cuda' if torch.cuda.is_available() else 'cpu')\n",
        "print('device')\n",
        "\n",
        "train_iterator = data.BucketIterator(\n",
        "    train_data, \n",
        "    batch_size = BATCH_SIZE,\n",
        "    device = device)\n",
        "\n",
        "valid_iterator = data.BucketIterator(\n",
        "    valid_data, \n",
        "    batch_size = BATCH_SIZE,\n",
        "    device = device)\n",
        "\n"
      ],
      "execution_count": null,
      "outputs": [
        {
          "output_type": "stream",
          "text": [
            "device\n"
          ],
          "name": "stdout"
        }
      ]
    },
    {
      "cell_type": "code",
      "metadata": {
        "id": "39DPWkP6UTaW",
        "colab_type": "code",
        "colab": {}
      },
      "source": [
        "# #maxpool\n",
        "# class NLIBiLSTM(nn.Module):\n",
        "#     def __init__(self, \n",
        "#                  input_dim, \n",
        "#                  embedding_dim,\n",
        "#                  hidden_dim,\n",
        "#                  n_lstm_layers,\n",
        "#                  n_fc_layers,\n",
        "#                  output_dim, \n",
        "#                  dropout, \n",
        "#                  pad_idx):\n",
        "        \n",
        "#         super().__init__()\n",
        "                                \n",
        "#         self.embedding = nn.Embedding(input_dim, embedding_dim, padding_idx = pad_idx)\n",
        "        \n",
        "#         self.translation = nn.Linear(embedding_dim, hidden_dim)\n",
        "        \n",
        "#         self.lstm = nn.LSTM(hidden_dim, \n",
        "#                             hidden_dim, \n",
        "#                             num_layers = n_lstm_layers, \n",
        "#                             bidirectional = True, \n",
        "#                             dropout=dropout if n_lstm_layers > 1 else 0)\n",
        "        \n",
        "#         fc_dim = hidden_dim * 2\n",
        "        \n",
        "#         fcs = [nn.Linear(fc_dim * 4, fc_dim * 4) for _ in range(n_fc_layers)]\n",
        "        \n",
        "#         self.fcs = nn.ModuleList(fcs)\n",
        "        \n",
        "#         self.fc_out = nn.Linear(fc_dim * 4, output_dim)\n",
        "        \n",
        "#         self.dropout = nn.Dropout(dropout)\n",
        "           \n",
        "#     def forward(self, prem, hypo):\n",
        "\n",
        "#         prem_seq_len, batch_size = prem.shape\n",
        "#         hypo_seq_len, _ = hypo.shape\n",
        "        \n",
        "       \n",
        "        \n",
        "#         embedded_prem = self.embedding(prem)\n",
        "#         embedded_hypo = self.embedding(hypo)\n",
        "        \n",
        "        \n",
        "#         translated_prem = F.relu(self.translation(embedded_prem))\n",
        "#         translated_hypo = F.relu(self.translation(embedded_hypo))\n",
        "        \n",
        "        \n",
        "        \n",
        "#         outputs_prem, (hidden_prem, cell_prem) = self.lstm(translated_prem)\n",
        "#         outputs_hypo, (hidden_hypo, cell_hypo) = self.lstm(translated_hypo)\n",
        "\n",
        "       \n",
        "#         outputs_prem = torch.max(outputs_prem,0)[0]\n",
        "#         outputs_hypo = torch.max(outputs_hypo,0)[0] \n",
        "\n",
        "#         hidden = torch.cat((outputs_prem, outputs_hypo,torch.abs(outputs_prem-outputs_hypo),outputs_prem*outputs_hypo), dim=1)\n",
        "\n",
        "\n",
        "#         #hidden = [batch size, fc dim * 2]\n",
        "#         for fc in self.fcs:\n",
        "#             hidden = fc(hidden)\n",
        "#             hidden = F.relu(hidden)\n",
        "#             hidden = self.dropout(hidden)\n",
        "        \n",
        "#         prediction = self.fc_out(hidden)\n",
        "        \n",
        "#         #prediction = [batch size, output dim]\n",
        "        \n",
        "#         return prediction"
      ],
      "execution_count": null,
      "outputs": []
    },
    {
      "cell_type": "code",
      "metadata": {
        "id": "2ebmMmVffFit",
        "colab_type": "code",
        "colab": {}
      },
      "source": [
        "# # will do mean pool\n",
        "# class NLIBiLSTM(nn.Module):\n",
        "#     def __init__(self, \n",
        "#                  input_dim, \n",
        "#                  embedding_dim,\n",
        "#                  hidden_dim,\n",
        "#                  n_lstm_layers,\n",
        "#                  n_fc_layers,\n",
        "#                  output_dim, \n",
        "#                  dropout, \n",
        "#                  pad_idx):\n",
        "        \n",
        "#         super().__init__()\n",
        "                                \n",
        "#         self.embedding = nn.Embedding(input_dim, embedding_dim, padding_idx = pad_idx)\n",
        "        \n",
        "#         self.translation = nn.Linear(embedding_dim, hidden_dim)\n",
        "        \n",
        "#         self.lstm = nn.LSTM(hidden_dim, \n",
        "#                             hidden_dim, \n",
        "#                             num_layers = n_lstm_layers, \n",
        "#                             bidirectional = True, \n",
        "#                             dropout=dropout if n_lstm_layers > 1 else 0)\n",
        "        \n",
        "#         fc_dim = hidden_dim * 2\n",
        "        \n",
        "#         fcs = [nn.Linear(fc_dim * 4, fc_dim * 4) for _ in range(n_fc_layers)]\n",
        "        \n",
        "#         self.fcs = nn.ModuleList(fcs)\n",
        "        \n",
        "#         self.fc_out = nn.Linear(fc_dim * 4, output_dim)\n",
        "        \n",
        "#         self.dropout = nn.Dropout(dropout)\n",
        "           \n",
        "#     def forward(self, prem, hypo):\n",
        "\n",
        "#         prem_seq_len, batch_size = prem.shape\n",
        "#         hypo_seq_len, _ = hypo.shape\n",
        "        \n",
        "#         embedded_prem = self.embedding(prem)\n",
        "#         embedded_hypo = self.embedding(hypo)\n",
        "        \n",
        "#         translated_prem = F.relu(self.translation(embedded_prem))\n",
        "#         translated_hypo = F.relu(self.translation(embedded_hypo))\n",
        "        \n",
        "#         outputs_prem, (hidden_prem, cell_prem) = self.lstm(translated_prem)\n",
        "#         outputs_hypo, (hidden_hypo, cell_hypo) = self.lstm(translated_hypo)\n",
        "\n",
        "#         outputs_prem = torch.mean(outputs_prem,0)\n",
        "#         outputs_hypo = torch.mean(outputs_hypo,0) \n",
        "\n",
        "#         hidden = torch.cat((outputs_prem, outputs_hypo,torch.abs(outputs_prem-outputs_hypo),outputs_prem*outputs_hypo), dim=1)\n",
        "\n",
        "\n",
        "#         #hidden = [batch size, fc dim * 2]\n",
        "#         for fc in self.fcs:\n",
        "#             hidden = fc(hidden)\n",
        "#             hidden = F.relu(hidden)\n",
        "#             hidden = self.dropout(hidden)\n",
        "        \n",
        "#         prediction = self.fc_out(hidden)\n",
        "        \n",
        "#         #prediction = [batch size, output dim]\n",
        "        \n",
        "#         return prediction"
      ],
      "execution_count": null,
      "outputs": []
    },
    {
      "cell_type": "code",
      "metadata": {
        "id": "kQTxG2IEfJVc",
        "colab_type": "code",
        "colab": {}
      },
      "source": [
        "# # will do no pooling\n",
        "# class NLIBiLSTM(nn.Module):\n",
        "#     def __init__(self, \n",
        "#                  input_dim, \n",
        "#                  embedding_dim,\n",
        "#                  hidden_dim,\n",
        "#                  n_lstm_layers,\n",
        "#                  n_fc_layers,\n",
        "#                  output_dim, \n",
        "#                  dropout, \n",
        "#                  pad_idx):\n",
        "        \n",
        "#         super().__init__()\n",
        "                                \n",
        "#         self.embedding = nn.Embedding(input_dim, embedding_dim, padding_idx = pad_idx)\n",
        "        \n",
        "#         self.translation = nn.Linear(embedding_dim, hidden_dim)\n",
        "        \n",
        "#         self.lstm = nn.LSTM(hidden_dim, \n",
        "#                             hidden_dim, \n",
        "#                             num_layers = n_lstm_layers, \n",
        "#                             bidirectional = True, \n",
        "#                             dropout=dropout if n_lstm_layers > 1 else 0)\n",
        "        \n",
        "#         fc_dim = hidden_dim * 2\n",
        "        \n",
        "#         fcs = [nn.Linear(fc_dim * 4, fc_dim * 4) for _ in range(n_fc_layers)]\n",
        "        \n",
        "#         self.fcs = nn.ModuleList(fcs)\n",
        "        \n",
        "#         self.fc_out = nn.Linear(fc_dim * 4, output_dim)\n",
        "        \n",
        "#         self.dropout = nn.Dropout(dropout)\n",
        "           \n",
        "#     def forward(self, prem, hypo):\n",
        "\n",
        "#         prem_seq_len, batch_size = prem.shape\n",
        "#         hypo_seq_len, _ = hypo.shape\n",
        "        \n",
        "#         embedded_prem = self.embedding(prem)\n",
        "#         embedded_hypo = self.embedding(hypo)\n",
        "        \n",
        "#         translated_prem = F.relu(self.translation(embedded_prem))\n",
        "#         translated_hypo = F.relu(self.translation(embedded_hypo))\n",
        "        \n",
        "#         outputs_prem, (hidden_prem, cell_prem) = self.lstm(translated_prem)\n",
        "#         outputs_hypo, (hidden_hypo, cell_hypo) = self.lstm(translated_hypo)\n",
        "        \n",
        "#         hidden_prem = torch.cat((hidden_prem[-1], hidden_prem[-2]), dim=-1)\n",
        "#         hidden_hypo = torch.cat((hidden_hypo[-1], hidden_hypo[-2]), dim=-1)\n",
        "       \n",
        "       \n",
        "#         hidden = torch.cat((hidden_prem, hidden_hypo,torch.abs(hidden_prem-hidden_hypo),hidden_prem*hidden_hypo), dim=1)\n",
        "\n",
        "#         for fc in self.fcs:\n",
        "#             hidden = fc(hidden)\n",
        "#             hidden = F.relu(hidden)\n",
        "#             hidden = self.dropout(hidden)\n",
        "        \n",
        "#         prediction = self.fc_out(hidden)\n",
        "        \n",
        "#         return prediction"
      ],
      "execution_count": null,
      "outputs": []
    },
    {
      "cell_type": "code",
      "metadata": {
        "id": "tt0Kf0J1fWfk",
        "colab_type": "code",
        "colab": {}
      },
      "source": [
        "# #attention model\n",
        "# class NLIBiLSTM(nn.Module):\n",
        "#     def __init__(self, \n",
        "#                  input_dim, \n",
        "#                  embedding_dim,\n",
        "#                  hidden_dim,\n",
        "#                  n_lstm_layers,\n",
        "#                  n_fc_layers,\n",
        "#                  output_dim, \n",
        "#                  dropout, \n",
        "#                  pad_idx):\n",
        "        \n",
        "#         super().__init__()\n",
        "                                \n",
        "#         self.embedding = nn.Embedding(input_dim, embedding_dim, padding_idx = pad_idx)\n",
        "        \n",
        "#         self.translation = nn.Linear(embedding_dim, hidden_dim)\n",
        "        \n",
        "#         self.lstm = nn.LSTM(hidden_dim, \n",
        "#                             hidden_dim, \n",
        "#                             num_layers = n_lstm_layers, \n",
        "#                             bidirectional = True, \n",
        "#                             dropout=dropout if n_lstm_layers > 1 else 0)\n",
        "        \n",
        "#         fc_dim = hidden_dim * 2\n",
        "\n",
        "#         self.ws1 = torch.nn.Parameter(torch.zeros(2*hidden_dim,2*hidden_dim),requires_grad=True)\n",
        "#         self.ws2 = torch.nn.Parameter(torch.zeros(2*hidden_dim,1),requires_grad=True)\n",
        "\n",
        "#         self.tanh = nn.Tanh()\n",
        "#         self.softmax = nn.Softmax(dim = 1)\n",
        "\n",
        "#         torch.nn.init.xavier_uniform_(self.ws1.data)\n",
        "#         torch.nn.init.xavier_uniform_(self.ws2.data)\n",
        "\n",
        "\n",
        "        \n",
        "#         fcs = [nn.Linear(fc_dim * 4, fc_dim * 4) for _ in range(n_fc_layers)]\n",
        "        \n",
        "#         self.fcs = nn.ModuleList(fcs)\n",
        "        \n",
        "#         self.fc_out = nn.Linear(fc_dim * 4, output_dim)\n",
        "        \n",
        "#         self.dropout = nn.Dropout(dropout)\n",
        "           \n",
        "#     def forward(self, prem, hypo):\n",
        "\n",
        "#         prem_seq_len, batch_size = prem.shape\n",
        "#         hypo_seq_len, _ = hypo.shape\n",
        "          \n",
        "#         embedded_prem = self.embedding(prem)\n",
        "#         embedded_hypo = self.embedding(hypo)\n",
        "        \n",
        "        \n",
        "#         translated_prem = F.relu(self.translation(embedded_prem))\n",
        "#         translated_hypo = F.relu(self.translation(embedded_hypo))\n",
        "        \n",
        "#         outputs_prem, (hidden_prem, cell_prem) = self.lstm(translated_prem)\n",
        "#         outputs_hypo, (hidden_hypo, cell_hypo) = self.lstm(translated_hypo)\n",
        "#         outputs_prem = outputs_prem.permute(1,0,2)\n",
        "#         outputs_hypo = outputs_hypo.permute(1,0,2)\n",
        "\n",
        "\n",
        "#         batch_size = outputs_prem.shape[0]\n",
        "\n",
        "#         x = torch.bmm(outputs_prem,self.ws1.repeat(batch_size,1,1))\n",
        "#         x = self.tanh(x)\n",
        "#         x = torch.bmm(x,self.ws2.repeat(batch_size,1,1))\n",
        "#         x = self.softmax(x)\n",
        "#         x  = outputs_prem * x\n",
        "#         x_prem = torch.sum(x,dim =1).squeeze()\n",
        "\n",
        "#         x = torch.bmm(outputs_hypo,self.ws1.repeat(batch_size,1,1))\n",
        "#         x = self.tanh(x)\n",
        "#         x = torch.bmm(x,self.ws2.repeat(batch_size,1,1))\n",
        "#         x = self.softmax(x)\n",
        "#         x  = outputs_hypo * x\n",
        "#         x_hypo = torch.sum(x,dim=1).squeeze()\n",
        "       \n",
        "\n",
        "#         hidden = torch.cat((x_prem, x_hypo,torch.abs(x_prem-x_hypo),x_prem*x_hypo), dim=1)\n",
        "\n",
        "\n",
        "        \n",
        "#         for fc in self.fcs:\n",
        "#             hidden = fc(hidden)\n",
        "#             hidden = F.relu(hidden)\n",
        "#             hidden = self.dropout(hidden)\n",
        "        \n",
        "#         prediction = self.fc_out(hidden)  \n",
        "#         return prediction"
      ],
      "execution_count": null,
      "outputs": []
    },
    {
      "cell_type": "code",
      "metadata": {
        "id": "T_lF2f3r5C8v",
        "colab_type": "code",
        "colab": {}
      },
      "source": [
        "# 1D CNN\n",
        "class NLIBiLSTM(nn.Module):\n",
        "    def __init__(self, \n",
        "                 input_dim, \n",
        "                 embedding_dim,\n",
        "                 hidden_dim,\n",
        "                 n_lstm_layers,\n",
        "                 n_fc_layers,\n",
        "                 output_dim, \n",
        "                 dropout, \n",
        "                 pad_idx):\n",
        "        \n",
        "        super().__init__()\n",
        "                                \n",
        "        self.embedding = nn.Embedding(input_dim, embedding_dim, padding_idx = pad_idx)\n",
        "        \n",
        "        self.translation = nn.Linear(embedding_dim, hidden_dim)\n",
        "        window_size = 3;\n",
        "\n",
        "        self.conv1 = nn.Conv2d(1,1,(window_size,1))\n",
        "        self.conv2 = nn.Conv2d(1,1,(window_size,1))\n",
        "        self.conv3 = nn.Conv2d(1,1,(window_size,1))\n",
        "        self.conv4 = nn.Conv2d(1,1,(window_size,1))\n",
        "\n",
        "        fc_dim = hidden_dim\n",
        "\n",
        "                \n",
        "        fcs = [nn.Linear(fc_dim * 4, fc_dim * 4) for _ in range(n_fc_layers)]\n",
        "        \n",
        "        self.fcs = nn.ModuleList(fcs)\n",
        "        \n",
        "        self.fc_out = nn.Linear(fc_dim * 4, output_dim)\n",
        "        \n",
        "        self.dropout = nn.Dropout(dropout)\n",
        "           \n",
        "    def forward(self, prem, hypo):\n",
        "\n",
        "        prem_seq_len, batch_size = prem.shape\n",
        "        hypo_seq_len, _ = hypo.shape\n",
        "          \n",
        "        embedded_prem = self.embedding(prem)\n",
        "        embedded_hypo = self.embedding(hypo)\n",
        "        \n",
        "        \n",
        "        translated_prem = F.relu(self.translation(embedded_prem))\n",
        "        translated_hypo = F.relu(self.translation(embedded_hypo))\n",
        "\n",
        "        translated_prem = translated_prem.reshape(1,translated_prem.shape[0],translated_prem.shape[1],-1).permute(2,0,1,3)\n",
        "        translated_hypo = translated_hypo.reshape(1,translated_hypo.shape[0],translated_hypo.shape[1],-1).permute(2,0,1,3)\n",
        "\n",
        "        # print(translated_prem.shape)\n",
        "        # print(translated_hypo.shape)\n",
        "\n",
        "\n",
        "        x = (self.conv1(translated_prem))\n",
        "        x = (self.conv2(x))\n",
        "        x = (self.conv3(x))\n",
        "        x = (self.conv4(x))\n",
        "        x = x.squeeze()\n",
        "        x = torch.max(x,1)[0]\n",
        "\n",
        "        y = (self.conv1(translated_hypo))\n",
        "        y = (self.conv2(y))\n",
        "        y = (self.conv3(y))\n",
        "        y = (self.conv4(y))\n",
        "        y = y.squeeze()\n",
        "        y = torch.max(y,1)[0]\n",
        "\n",
        "        # print(x.shape)\n",
        "        # print(y.shape)\n",
        "        # sys.exit()\n",
        "\n",
        "\n",
        "        hidden = torch.cat((x,y,torch.abs(x-y),x*y), dim=1)\n",
        "\n",
        "\n",
        "        \n",
        "        for fc in self.fcs:\n",
        "            hidden = fc(hidden)\n",
        "            hidden = F.relu(hidden)\n",
        "            hidden = self.dropout(hidden)\n",
        "        \n",
        "        prediction = self.fc_out(hidden)  \n",
        "        return prediction"
      ],
      "execution_count": null,
      "outputs": []
    },
    {
      "cell_type": "code",
      "metadata": {
        "id": "UcTR_dsBb6Aa",
        "colab_type": "code",
        "colab": {}
      },
      "source": [
        "# # 1D CNN\n",
        "# class NLIBiLSTM(nn.Module):\n",
        "#     def __init__(self, \n",
        "#                  input_dim, \n",
        "#                  embedding_dim,\n",
        "#                  hidden_dim,\n",
        "#                  n_lstm_layers,\n",
        "#                  n_fc_layers,\n",
        "#                  output_dim, \n",
        "#                  dropout, \n",
        "#                  pad_idx):\n",
        "        \n",
        "#         super().__init__()\n",
        "                                \n",
        "#         self.embedding = nn.Embedding(input_dim, embedding_dim, padding_idx = pad_idx)\n",
        "        \n",
        "#         self.translation = nn.Linear(embedding_dim, hidden_dim)\n",
        "#         window_size = 3;\n",
        "\n",
        "#         self.conv1 = nn.Conv2d(1,300,(window_size,300))\n",
        "#         self.conv2 = nn.Conv2d(1,300,(window_size,300))\n",
        "#         self.conv3 = nn.Conv2d(1,300,(window_size,300))\n",
        "#         self.conv4 = nn.Conv2d(1,300,(window_size,300))\n",
        "\n",
        "#         fc_dim = hidden_dim\n",
        "\n",
        "                \n",
        "#         fcs = [nn.Linear(fc_dim * 4, fc_dim * 4) for _ in range(n_fc_layers)]\n",
        "        \n",
        "#         self.fcs = nn.ModuleList(fcs)\n",
        "        \n",
        "#         self.fc_out = nn.Linear(fc_dim * 4, output_dim)\n",
        "        \n",
        "#         self.dropout = nn.Dropout(dropout)\n",
        "           \n",
        "#     def forward(self, prem, hypo):\n",
        "\n",
        "#         prem_seq_len, batch_size = prem.shape\n",
        "#         hypo_seq_len, _ = hypo.shape\n",
        "          \n",
        "#         embedded_prem = self.embedding(prem)\n",
        "#         embedded_hypo = self.embedding(hypo)\n",
        "        \n",
        "        \n",
        "#         translated_prem = F.relu(self.translation(embedded_prem))\n",
        "#         translated_hypo = F.relu(self.translation(embedded_hypo))\n",
        "\n",
        "#         translated_prem = translated_prem.reshape(1,translated_prem.shape[0],translated_prem.shape[1],-1).permute(2,0,1,3)\n",
        "#         translated_hypo = translated_hypo.reshape(1,translated_hypo.shape[0],translated_hypo.shape[1],-1).permute(2,0,1,3)\n",
        "\n",
        "#         # print(translated_prem.shape)\n",
        "#         # print(translated_hypo.shape)\n",
        "\n",
        "\n",
        "#         x = F.relu(self.conv1(translated_prem).permute(0,3,2,1))\n",
        "#         x = F.relu(self.conv2(x).permute(0,3,2,1))\n",
        "#         x = F.relu(self.conv3(x).permute(0,3,2,1))\n",
        "#         x = F.relu(self.conv4(x).permute(0,3,2,1))\n",
        "#         x = x.squeeze()\n",
        "#         x = torch.max(x,1)[0]\n",
        "\n",
        "#         y = F.relu(self.conv1(translated_hypo).permute(0,3,2,1))\n",
        "#         y = F.relu(self.conv2(y).permute(0,3,2,1))\n",
        "#         y = F.relu(self.conv3(y).permute(0,3,2,1))\n",
        "\n",
        "#         y = F.relu(self.conv4(y).permute(0,3,2,1))\n",
        "#         y = y.squeeze()\n",
        "#         y = torch.max(y,1)[0]\n",
        "\n",
        "#         # print(x.shape)\n",
        "#         # print(y.shape)\n",
        "#         # sys.exit()\n",
        "\n",
        "\n",
        "#         hidden = torch.cat((x,y,torch.abs(x-y),x*y), dim=1)\n",
        "\n",
        "\n",
        "        \n",
        "#         for fc in self.fcs:\n",
        "#             hidden = fc(hidden)\n",
        "#             hidden = F.relu(hidden)\n",
        "#             hidden = self.dropout(hidden)\n",
        "        \n",
        "#         prediction = self.fc_out(hidden)  \n",
        "#         return prediction"
      ],
      "execution_count": null,
      "outputs": []
    },
    {
      "cell_type": "code",
      "metadata": {
        "id": "UcDqFVKdUe4Z",
        "colab_type": "code",
        "colab": {}
      },
      "source": [
        "INPUT_DIM = len(TEXT.vocab)\n",
        "EMBEDDING_DIM = 300\n",
        "HIDDEN_DIM = 300\n",
        "N_LSTM_LAYERS = 1\n",
        "N_FC_LAYERS = 3\n",
        "OUTPUT_DIM = len(LABEL.vocab)\n",
        "DROPOUT = 0.25\n",
        "PAD_IDX = TEXT.vocab.stoi[TEXT.pad_token]\n",
        "\n",
        "model = NLIBiLSTM(INPUT_DIM,\n",
        "                  EMBEDDING_DIM,\n",
        "                  HIDDEN_DIM,\n",
        "                  N_LSTM_LAYERS,\n",
        "                  N_FC_LAYERS,\n",
        "                  OUTPUT_DIM,\n",
        "                  DROPOUT,\n",
        "                  PAD_IDX).to(device)"
      ],
      "execution_count": null,
      "outputs": []
    },
    {
      "cell_type": "code",
      "metadata": {
        "id": "l6HVN66TUye5",
        "colab_type": "code",
        "colab": {
          "base_uri": "https://localhost:8080/",
          "height": 34
        },
        "outputId": "f00eeda0-22f1-4481-f156-79b12322fdd5"
      },
      "source": [
        "def count_parameters(model):\n",
        "    return sum(p.numel() for p in model.parameters() if p.requires_grad)\n",
        "\n",
        "print(f'The model has {count_parameters(model):,} trainable parameters')"
      ],
      "execution_count": null,
      "outputs": [
        {
          "output_type": "stream",
          "text": [
            "The model has 20,775,618 trainable parameters\n"
          ],
          "name": "stdout"
        }
      ]
    },
    {
      "cell_type": "code",
      "metadata": {
        "id": "jqvNui40U5S3",
        "colab_type": "code",
        "colab": {
          "base_uri": "https://localhost:8080/",
          "height": 34
        },
        "outputId": "b9cd13ab-8854-4783-86f7-559ddcb1186c"
      },
      "source": [
        "pretrained_embeddings = TEXT.vocab.vectors\n",
        "\n",
        "print(pretrained_embeddings.shape)"
      ],
      "execution_count": null,
      "outputs": [
        {
          "output_type": "stream",
          "text": [
            "torch.Size([54531, 300])\n"
          ],
          "name": "stdout"
        }
      ]
    },
    {
      "cell_type": "code",
      "metadata": {
        "id": "weXhUfXYVFjK",
        "colab_type": "code",
        "colab": {
          "base_uri": "https://localhost:8080/",
          "height": 153
        },
        "outputId": "cfe072fe-c612-4e95-8dac-c23d646193a8"
      },
      "source": [
        "model.embedding.weight.data.copy_(pretrained_embeddings)"
      ],
      "execution_count": null,
      "outputs": [
        {
          "output_type": "execute_result",
          "data": {
            "text/plain": [
              "tensor([[ 0.8543,  0.8804,  1.4771,  ..., -3.3385,  3.2162,  0.8564],\n",
              "        [ 1.1484, -0.9949,  0.2790,  ...,  0.1340,  0.3709, -1.4518],\n",
              "        [-0.0833, -0.2090, -0.0436,  ..., -0.1775,  0.0558,  0.8013],\n",
              "        ...,\n",
              "        [ 0.9971, -1.9249,  0.2666,  ...,  0.1870,  0.8133, -0.5361],\n",
              "        [-1.2981, -0.2590, -0.1845,  ...,  0.6690, -1.3790, -0.0625],\n",
              "        [ 0.6180,  0.5993, -0.6279,  ..., -1.3815, -0.8079,  0.0175]],\n",
              "       device='cuda:0')"
            ]
          },
          "metadata": {
            "tags": []
          },
          "execution_count": 58
        }
      ]
    },
    {
      "cell_type": "code",
      "metadata": {
        "id": "gBJeNXSHVJey",
        "colab_type": "code",
        "colab": {
          "base_uri": "https://localhost:8080/",
          "height": 153
        },
        "outputId": "021dd4c5-8625-4ca6-fe73-b9fa296fb8f9"
      },
      "source": [
        "model.embedding.weight.data[PAD_IDX] = torch.zeros(EMBEDDING_DIM)\n",
        "\n",
        "print(model.embedding.weight.data)"
      ],
      "execution_count": null,
      "outputs": [
        {
          "output_type": "stream",
          "text": [
            "tensor([[ 0.8543,  0.8804,  1.4771,  ..., -3.3385,  3.2162,  0.8564],\n",
            "        [ 0.0000,  0.0000,  0.0000,  ...,  0.0000,  0.0000,  0.0000],\n",
            "        [-0.0833, -0.2090, -0.0436,  ..., -0.1775,  0.0558,  0.8013],\n",
            "        ...,\n",
            "        [ 0.9971, -1.9249,  0.2666,  ...,  0.1870,  0.8133, -0.5361],\n",
            "        [-1.2981, -0.2590, -0.1845,  ...,  0.6690, -1.3790, -0.0625],\n",
            "        [ 0.6180,  0.5993, -0.6279,  ..., -1.3815, -0.8079,  0.0175]],\n",
            "       device='cuda:0')\n"
          ],
          "name": "stdout"
        }
      ]
    },
    {
      "cell_type": "code",
      "metadata": {
        "id": "uGhMBoXoVMot",
        "colab_type": "code",
        "colab": {}
      },
      "source": [
        "model.embedding.weight.requires_grad = False"
      ],
      "execution_count": null,
      "outputs": []
    },
    {
      "cell_type": "code",
      "metadata": {
        "id": "rG47B4-wVPkc",
        "colab_type": "code",
        "colab": {
          "base_uri": "https://localhost:8080/",
          "height": 34
        },
        "outputId": "e21666a4-4d5b-490a-a308-3fc8e0d26564"
      },
      "source": [
        "def count_parameters(model):\n",
        "    return sum(p.numel() for p in model.parameters() if p.requires_grad)\n",
        "\n",
        "print(f'The model has {count_parameters(model):,} trainable parameters')"
      ],
      "execution_count": null,
      "outputs": [
        {
          "output_type": "stream",
          "text": [
            "The model has 4,416,318 trainable parameters\n"
          ],
          "name": "stdout"
        }
      ]
    },
    {
      "cell_type": "code",
      "metadata": {
        "id": "_14VutJBVSgt",
        "colab_type": "code",
        "colab": {}
      },
      "source": [
        "optimizer = torch.optim.Adam(model.parameters())"
      ],
      "execution_count": null,
      "outputs": []
    },
    {
      "cell_type": "code",
      "metadata": {
        "id": "gTlLbBeWVX3E",
        "colab_type": "code",
        "colab": {}
      },
      "source": [
        "criterion = nn.CrossEntropyLoss().to(device)"
      ],
      "execution_count": null,
      "outputs": []
    },
    {
      "cell_type": "code",
      "metadata": {
        "id": "vvsfwUeEVfkP",
        "colab_type": "code",
        "colab": {}
      },
      "source": [
        "def categorical_accuracy(preds, y):\n",
        "    max_preds = preds.argmax(dim = 1, keepdim = True) \n",
        "    correct = max_preds.squeeze(1).eq(y)\n",
        "    return correct.sum() / torch.FloatTensor([y.shape[0]])"
      ],
      "execution_count": null,
      "outputs": []
    },
    {
      "cell_type": "code",
      "metadata": {
        "id": "ldBTR0O7Vir0",
        "colab_type": "code",
        "colab": {}
      },
      "source": [
        "def train(model, iterator, optimizer, criterion):\n",
        "    \n",
        "    epoch_loss = 0\n",
        "    epoch_acc = 0\n",
        "    \n",
        "    model.train()\n",
        "    \n",
        "    for batch in iterator:\n",
        "        \n",
        "        prem = batch.question1\n",
        "        hypo = batch.question2\n",
        "        labels = batch.is_duplicate\n",
        "        \n",
        "        optimizer.zero_grad()\n",
        "       \n",
        "        predictions = model(prem, hypo)\n",
        "        \n",
        "        loss = criterion(predictions, labels)\n",
        "                \n",
        "        acc = categorical_accuracy(predictions, labels)\n",
        "        \n",
        "        loss.backward()\n",
        "        \n",
        "        optimizer.step()\n",
        "        \n",
        "        epoch_loss += loss.item()\n",
        "        epoch_acc += acc.item()\n",
        "        \n",
        "    return epoch_loss / len(iterator), epoch_acc / len(iterator)"
      ],
      "execution_count": null,
      "outputs": []
    },
    {
      "cell_type": "code",
      "metadata": {
        "id": "VO1_xd1tVmPE",
        "colab_type": "code",
        "colab": {}
      },
      "source": [
        "def evaluate(model, iterator, criterion):\n",
        "    \n",
        "    epoch_loss = 0\n",
        "    epoch_acc = 0\n",
        "\n",
        "    \n",
        "    model.eval()\n",
        "\n",
        "    \n",
        "    with torch.no_grad():\n",
        "      for batch in iterator:\n",
        "        prem = batch.question1\n",
        "        hypo = batch.question2\n",
        "        labels = batch.is_duplicate\n",
        "        predictions = model(prem, hypo)\n",
        "            \n",
        "        loss = criterion(predictions, labels)\n",
        "                \n",
        "        acc = categorical_accuracy(predictions, labels)\n",
        "            \n",
        "        epoch_loss += loss.item()\n",
        "        epoch_acc += acc.item()\n",
        "        \n",
        "    return epoch_loss / len(iterator), epoch_acc / len(iterator)"
      ],
      "execution_count": null,
      "outputs": []
    },
    {
      "cell_type": "code",
      "metadata": {
        "id": "aaAd9429VqO-",
        "colab_type": "code",
        "colab": {}
      },
      "source": [
        "def epoch_time(start_time, end_time):\n",
        "    elapsed_time = end_time - start_time\n",
        "    elapsed_mins = int(elapsed_time / 60)\n",
        "    elapsed_secs = int(elapsed_time - (elapsed_mins * 60))\n",
        "    return elapsed_mins, elapsed_secs\n",
        "\n",
        "loss_1 = []\n",
        "loss_2 = []\n",
        "acc_1 = []\n",
        "acc_2 = []\n"
      ],
      "execution_count": null,
      "outputs": []
    },
    {
      "cell_type": "code",
      "metadata": {
        "id": "kVbWuQEDVs8u",
        "colab_type": "code",
        "colab": {
          "base_uri": "https://localhost:8080/",
          "height": 527
        },
        "outputId": "83ad424e-78ec-4d5c-8385-c36423b946a9"
      },
      "source": [
        "N_EPOCHS = 10\n",
        "\n",
        "best_valid_loss = float('inf')\n",
        "\n",
        "for epoch in range(N_EPOCHS):\n",
        "    start_time = time.time()\n",
        "    \n",
        "    train_loss, train_acc = train(model, train_iterator, optimizer, criterion)\n",
        "    valid_loss, valid_acc = evaluate(model, valid_iterator, criterion)\n",
        "    \n",
        "    end_time = time.time()\n",
        "\n",
        "    epoch_mins, epoch_secs = epoch_time(start_time, end_time)\n",
        "    \n",
        "    if valid_loss < best_valid_loss:\n",
        "        best_valid_loss = valid_loss\n",
        "        torch.save(model.state_dict(), 'deep_model.pt')\n",
        "    loss_1.append(train_loss)\n",
        "    loss_2.append(valid_loss)\n",
        "    acc_1.append(train_acc)\n",
        "    acc_2.append(valid_acc)\n",
        "    print(f'Epoch: {epoch+1:02} | Epoch Time: {epoch_mins}m {epoch_secs}s')\n",
        "    print(f'\\tTrain Loss: {train_loss:.3f} | Train Acc: {train_acc*100:.2f}%')\n",
        "    print(f'\\t Val. Loss: {valid_loss:.3f} |  Val. Acc: {valid_acc*100:.2f}%')"
      ],
      "execution_count": null,
      "outputs": [
        {
          "output_type": "stream",
          "text": [
            "Epoch: 01 | Epoch Time: 2m 8s\n",
            "\tTrain Loss: 0.458 | Train Acc: 77.13%\n",
            "\t Val. Loss: 0.390 |  Val. Acc: 81.71%\n",
            "Epoch: 02 | Epoch Time: 2m 8s\n",
            "\tTrain Loss: 0.365 | Train Acc: 83.01%\n",
            "\t Val. Loss: 0.358 |  Val. Acc: 83.64%\n",
            "Epoch: 03 | Epoch Time: 2m 8s\n",
            "\tTrain Loss: 0.331 | Train Acc: 84.83%\n",
            "\t Val. Loss: 0.338 |  Val. Acc: 84.64%\n",
            "Epoch: 04 | Epoch Time: 2m 9s\n",
            "\tTrain Loss: 0.306 | Train Acc: 86.15%\n",
            "\t Val. Loss: 0.341 |  Val. Acc: 84.74%\n",
            "Epoch: 05 | Epoch Time: 2m 8s\n",
            "\tTrain Loss: 0.287 | Train Acc: 87.19%\n",
            "\t Val. Loss: 0.329 |  Val. Acc: 84.75%\n",
            "Epoch: 06 | Epoch Time: 2m 8s\n",
            "\tTrain Loss: 0.271 | Train Acc: 87.97%\n",
            "\t Val. Loss: 0.325 |  Val. Acc: 85.31%\n",
            "Epoch: 07 | Epoch Time: 2m 8s\n",
            "\tTrain Loss: 0.255 | Train Acc: 88.76%\n",
            "\t Val. Loss: 0.338 |  Val. Acc: 85.44%\n",
            "Epoch: 08 | Epoch Time: 2m 9s\n",
            "\tTrain Loss: 0.242 | Train Acc: 89.41%\n",
            "\t Val. Loss: 0.332 |  Val. Acc: 85.77%\n",
            "Epoch: 09 | Epoch Time: 2m 8s\n",
            "\tTrain Loss: 0.229 | Train Acc: 90.10%\n",
            "\t Val. Loss: 0.364 |  Val. Acc: 85.52%\n",
            "Epoch: 10 | Epoch Time: 2m 8s\n",
            "\tTrain Loss: 0.217 | Train Acc: 90.60%\n",
            "\t Val. Loss: 0.349 |  Val. Acc: 85.89%\n"
          ],
          "name": "stdout"
        }
      ]
    },
    {
      "cell_type": "code",
      "metadata": {
        "id": "pGuRo3ulSWMV",
        "colab_type": "code",
        "colab": {
          "base_uri": "https://localhost:8080/",
          "height": 282
        },
        "outputId": "1c02f1db-284d-4904-b296-fd0702ab9403"
      },
      "source": [
        "import matplotlib.pyplot as plt\n",
        "plt.plot(loss_1,label = 'training_loss')\n",
        "plt.plot(loss_2,label = 'validation_loss')\n",
        "plt.legend()\n"
      ],
      "execution_count": null,
      "outputs": [
        {
          "output_type": "execute_result",
          "data": {
            "text/plain": [
              "<matplotlib.legend.Legend at 0x7f4a4df0ee48>"
            ]
          },
          "metadata": {
            "tags": []
          },
          "execution_count": 71
        },
        {
          "output_type": "display_data",
          "data": {
            "image/png": "[encoded data removed]",
            "text/plain": [
              "<Figure size 432x288 with 1 Axes>"
            ]
          },
          "metadata": {
            "tags": [],
            "needs_background": "light"
          }
        }
      ]
    },
    {
      "cell_type": "code",
      "metadata": {
        "id": "Iat8ifJbSicm",
        "colab_type": "code",
        "colab": {
          "base_uri": "https://localhost:8080/",
          "height": 282
        },
        "outputId": "7b59e0de-65b9-44c4-de65-14a161bcccc7"
      },
      "source": [
        "plt.plot(acc_1,label = 'training_acc')\n",
        "plt.plot(acc_2,label = 'validation_acc')\n",
        "plt.legend()\n"
      ],
      "execution_count": null,
      "outputs": [
        {
          "output_type": "execute_result",
          "data": {
            "text/plain": [
              "<matplotlib.legend.Legend at 0x7f4a4e176860>"
            ]
          },
          "metadata": {
            "tags": []
          },
          "execution_count": 72
        },
        {
          "output_type": "display_data",
          "data": {
            "image/png": "[encoded data removed]",
            "text/plain": [
              "<Figure size 432x288 with 1 Axes>"
            ]
          },
          "metadata": {
            "tags": [],
            "needs_background": "light"
          }
        }
      ]
    },
    {
      "cell_type": "code",
      "metadata": {
        "id": "_T5rEPqPxHbJ",
        "colab_type": "code",
        "colab": {}
      },
      "source": [
        ""
      ],
      "execution_count": null,
      "outputs": []
    }
  ]
}